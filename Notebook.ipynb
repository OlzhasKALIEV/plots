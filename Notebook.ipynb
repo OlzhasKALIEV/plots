{
 "cells": [
  {
   "cell_type": "code",
   "execution_count": null,
   "id": "7ffb050f-b601-4068-857f-3ee89467fae3",
   "metadata": {},
   "outputs": [],
   "source": [
    "!pip install -r requirements.txt"
   ]
  },
  {
   "cell_type": "code",
   "execution_count": 1,
   "id": "b83ffd64-9887-43a7-b474-e5ef4a4dd936",
   "metadata": {},
   "outputs": [],
   "source": [
    "import os\n",
    "import pandas as pd\n",
    "import matplotlib.pyplot as plt\n",
    "import requests\n",
    "\n",
    "\n",
    "class PlotDrawer:\n",
    "    def __init__(self, data_folder='графики'):\n",
    "        self.data_folder = data_folder\n",
    "        if not os.path.exists(data_folder):\n",
    "            os.makedirs(data_folder)\n",
    "\n",
    "    def draw_plot(self, x, y, title):\n",
    "        plt.plot(x, y)\n",
    "        plt.title(title)\n",
    "        plt.xlabel('X')\n",
    "        plt.ylabel('Y')\n",
    "        plt.grid(True)\n",
    "        plt.savefig(os.path.join(self.data_folder, f'{title}.png'))\n",
    "        plt.close()\n",
    "\n",
    "def draw_plots(json_file):\n",
    "    df = pd.read_json(json_file)\n",
    "    plot_drawer = PlotDrawer()\n",
    "\n",
    "    paths = []\n",
    "    for column in df.columns:\n",
    "        plot_drawer.draw_plot(df.index, df[column], column)\n",
    "        paths.append(os.path.join(plot_drawer.data_folder, f'{column}.png'))\n",
    "\n",
    "    return paths"
   ]
  }
 ],
 "metadata": {
  "kernelspec": {
   "display_name": "Python 3 (ipykernel)",
   "language": "python",
   "name": "python3"
  },
  "language_info": {
   "codemirror_mode": {
    "name": "ipython",
    "version": 3
   },
   "file_extension": ".py",
   "mimetype": "text/x-python",
   "name": "python",
   "nbconvert_exporter": "python",
   "pygments_lexer": "ipython3",
   "version": "3.11.4"
  }
 },
 "nbformat": 4,
 "nbformat_minor": 5
}
